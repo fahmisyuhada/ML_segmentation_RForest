{
  "nbformat": 4,
  "nbformat_minor": 0,
  "metadata": {
    "colab": {
      "provenance": [],
      "authorship_tag": "ABX9TyM2mkjPxAx0exxILlnRjW5y",
      "include_colab_link": true
    },
    "kernelspec": {
      "name": "python3",
      "display_name": "Python 3"
    },
    "language_info": {
      "name": "python"
    }
  },
  "cells": [
    {
      "cell_type": "markdown",
      "metadata": {
        "id": "view-in-github",
        "colab_type": "text"
      },
      "source": [
        "<a href=\"https://colab.research.google.com/github/fahmisyuhada/ML_segmentation_RForest/blob/main/TRAIN_ML_Segmentation_RForest.ipynb\" target=\"_parent\"><img src=\"https://colab.research.google.com/assets/colab-badge.svg\" alt=\"Open In Colab\"/></a>"
      ]
    },
    {
      "cell_type": "code",
      "execution_count": null,
      "metadata": {
        "id": "N1MromptDA0d"
      },
      "outputs": [],
      "source": [
        "import numpy as np\n",
        "import cv2\n",
        "import pandas as pd\n",
        "\n",
        "\n",
        "img = cv2.imread('images/Train_images/Sandstone_Versa0000.tif') # Menggunakan citra DAPI Images yang bisa untuk menggambarkan sel\n",
        "img = cv2.cvtColor(img, cv2.COLOR_BGR2GRAY)  # Gambar harus dikonversi dari multichannel menjadi satu chanel atau berwarna ke grey\n",
        "\n",
        "#Multiple images can be used for training. For that, you need to concatenate the data\n",
        "# Banyak gambar dapat digunakan untuk pelatihan, untuk itu harus digabungkan menjadi sebuah data\n",
        "\n",
        "# Menyimpan pixels gambar asli kedalam sebuah data frama. Ini merupakan fitur kita pertama\n",
        "img2 = img.reshape(-1)\n",
        "df = pd.DataFrame()\n",
        "df['Original Image'] = img2"
      ]
    },
    {
      "cell_type": "code",
      "source": [
        "#Generate Gabor features\n",
        "num = 1  #To count numbers up in order to give Gabor features a lable in the data frame\n",
        "kernels = []\n",
        "for theta in range(2):   #Define number of thetas\n",
        "    theta = theta / 4. * np.pi\n",
        "    for sigma in (1, 3):  #Sigma with 1 and 3\n",
        "        for lamda in np.arange(0, np.pi, np.pi / 4):   #Range of wavelengths\n",
        "            for gamma in (0.05, 0.5):   #Gamma values of 0.05 and 0.5\n",
        "\n",
        "\n",
        "                gabor_label = 'Gabor' + str(num)  #Label Gabor columns as Gabor1, Gabor2, etc.\n",
        "#                print(gabor_label)\n",
        "                ksize=9\n",
        "                kernel = cv2.getGaborKernel((ksize, ksize), sigma, theta, lamda, gamma, 0, ktype=cv2.CV_32F)\n",
        "                kernels.append(kernel)\n",
        "                #Now filter the image and add values to a new column\n",
        "                fimg = cv2.filter2D(img2, cv2.CV_8UC3, kernel)\n",
        "                filtered_img = fimg.reshape(-1)\n",
        "                df[gabor_label] = filtered_img  #Labels columns as Gabor1, Gabor2, etc.\n",
        "                print(gabor_label, ': theta=', theta, ': sigma=', sigma, ': lamda=', lamda, ': gamma=', gamma)\n",
        "                num += 1  #Increment for gabor column label\n",
        "\n",
        "########################################"
      ],
      "metadata": {
        "id": "Da6WNEZWGnte"
      },
      "execution_count": null,
      "outputs": []
    }
  ]
}